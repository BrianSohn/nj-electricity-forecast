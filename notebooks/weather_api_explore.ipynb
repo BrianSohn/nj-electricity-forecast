{
 "cells": [
  {
   "cell_type": "code",
   "execution_count": 1,
   "id": "633bb0e5",
   "metadata": {},
   "outputs": [],
   "source": [
    "import requests \n",
    "import pandas as pd \n",
    "import matplotlib.pyplot as plt\n",
    "import os \n",
    "from datetime import datetime, timedelta\n"
   ]
  },
  {
   "cell_type": "markdown",
   "id": "ce011452",
   "metadata": {},
   "source": [
    "# Weather Data"
   ]
  },
  {
   "cell_type": "code",
   "execution_count": null,
   "id": "a5d8efcf",
   "metadata": {},
   "outputs": [],
   "source": [
    "response_weather = requests.get(\"https://api.weather.gov/stations/KTEB/observations/2025-08-25T04%3A30%3A00%2B00%3A00\")\n",
    "# KTEB is the station code for Teterboro Airport in NJ"
   ]
  },
  {
   "cell_type": "code",
   "execution_count": 3,
   "id": "9fa59dec",
   "metadata": {},
   "outputs": [
    {
     "data": {
      "text/plain": [
       "{'@context': ['https://geojson.org/geojson-ld/geojson-context.jsonld',\n",
       "  {'@version': '1.1',\n",
       "   'wx': 'https://api.weather.gov/ontology#',\n",
       "   's': 'https://schema.org/',\n",
       "   'geo': 'http://www.opengis.net/ont/geosparql#',\n",
       "   'unit': 'http://codes.wmo.int/common/unit/',\n",
       "   '@vocab': 'https://api.weather.gov/ontology#',\n",
       "   'geometry': {'@id': 's:GeoCoordinates', '@type': 'geo:wktLiteral'},\n",
       "   'city': 's:addressLocality',\n",
       "   'state': 's:addressRegion',\n",
       "   'distance': {'@id': 's:Distance', '@type': 's:QuantitativeValue'},\n",
       "   'bearing': {'@type': 's:QuantitativeValue'},\n",
       "   'value': {'@id': 's:value'},\n",
       "   'unitCode': {'@id': 's:unitCode', '@type': '@id'},\n",
       "   'forecastOffice': {'@type': '@id'},\n",
       "   'forecastGridData': {'@type': '@id'},\n",
       "   'publicZone': {'@type': '@id'},\n",
       "   'county': {'@type': '@id'}}],\n",
       " 'id': 'https://api.weather.gov/stations/KTEB/observations/2025-08-25T04:30:00+00:00',\n",
       " 'type': 'Feature',\n",
       " 'geometry': {'type': 'Point', 'coordinates': [-74.06, 40.78]},\n",
       " 'properties': {'@id': 'https://api.weather.gov/stations/KTEB/observations/2025-08-25T04:30:00+00:00',\n",
       "  '@type': 'wx:ObservationStation',\n",
       "  'elevation': {'unitCode': 'wmoUnit:m', 'value': 3},\n",
       "  'station': 'https://api.weather.gov/stations/KTEB',\n",
       "  'stationId': 'KTEB',\n",
       "  'stationName': 'Teterboro, Teterboro Airport',\n",
       "  'timestamp': '2025-08-25T04:30:00+00:00',\n",
       "  'rawMessage': '',\n",
       "  'textDescription': 'Partly Cloudy',\n",
       "  'icon': 'https://api.weather.gov/icons/land/night/sct?size=medium',\n",
       "  'presentWeather': [],\n",
       "  'temperature': {'unitCode': 'wmoUnit:degC',\n",
       "   'value': 22,\n",
       "   'qualityControl': 'V'},\n",
       "  'dewpoint': {'unitCode': 'wmoUnit:degC', 'value': 19, 'qualityControl': 'V'},\n",
       "  'windDirection': {'unitCode': 'wmoUnit:degree_(angle)',\n",
       "   'value': 180,\n",
       "   'qualityControl': 'V'},\n",
       "  'windSpeed': {'unitCode': 'wmoUnit:km_h-1',\n",
       "   'value': 7.416,\n",
       "   'qualityControl': 'V'},\n",
       "  'windGust': {'unitCode': 'wmoUnit:km_h-1',\n",
       "   'value': None,\n",
       "   'qualityControl': 'Z'},\n",
       "  'barometricPressure': {'unitCode': 'wmoUnit:Pa',\n",
       "   'value': 101049.84,\n",
       "   'qualityControl': 'V'},\n",
       "  'seaLevelPressure': {'unitCode': 'wmoUnit:Pa',\n",
       "   'value': None,\n",
       "   'qualityControl': 'Z'},\n",
       "  'visibility': {'unitCode': 'wmoUnit:m',\n",
       "   'value': 16093.44,\n",
       "   'qualityControl': 'C'},\n",
       "  'maxTemperatureLast24Hours': {'unitCode': 'wmoUnit:degC', 'value': None},\n",
       "  'minTemperatureLast24Hours': {'unitCode': 'wmoUnit:degC', 'value': None},\n",
       "  'precipitationLast3Hours': {'unitCode': 'wmoUnit:mm',\n",
       "   'value': None,\n",
       "   'qualityControl': 'Z'},\n",
       "  'relativeHumidity': {'unitCode': 'wmoUnit:percent',\n",
       "   'value': 83.107688157695,\n",
       "   'qualityControl': 'V'},\n",
       "  'windChill': {'unitCode': 'wmoUnit:degC',\n",
       "   'value': None,\n",
       "   'qualityControl': 'V'},\n",
       "  'heatIndex': {'unitCode': 'wmoUnit:degC',\n",
       "   'value': 22.42558963522889,\n",
       "   'qualityControl': 'V'},\n",
       "  'cloudLayers': [{'base': {'unitCode': 'wmoUnit:m', 'value': 548.64},\n",
       "    'amount': 'FEW'},\n",
       "   {'base': {'unitCode': 'wmoUnit:m', 'value': 3657.6}, 'amount': 'SCT'}]}}"
      ]
     },
     "execution_count": 3,
     "metadata": {},
     "output_type": "execute_result"
    }
   ],
   "source": [
    "response_weather.json()#[\"properties\"][\"temperature\"][\"value\"]"
   ]
  },
  {
   "cell_type": "code",
   "execution_count": 4,
   "id": "ea006b14",
   "metadata": {},
   "outputs": [
    {
     "data": {
      "text/plain": [
       "8947"
      ]
     },
     "execution_count": 4,
     "metadata": {},
     "output_type": "execute_result"
    }
   ],
   "source": [
    "sd = datetime(2001, 1, 1)\n",
    "ed = datetime(2025, 6, 30)\n",
    "\n",
    "d = []\n",
    "\n",
    "while sd <= ed:\n",
    "    d.append(sd.strftime(\"%Y-%m-%d\"))\n",
    "    sd += timedelta(days=1)\n",
    "\n",
    "len(d)"
   ]
  },
  {
   "cell_type": "markdown",
   "id": "a580aaad",
   "metadata": {},
   "source": [
    "It seems this Weather API only allows us to fetch recent (~1 week) historical data for a specific station. \n",
    "At this point, I decide to push the idea of using weather data to enhance electricity consumption predictions in the backlog, for two reasons: \n",
    "1. To fetch historical data (requierd for model training) I would need to explore a different data source (which is possible but time consuming)\n",
    "2. To further simplify the data collection & storage process as well as the modeling process (since I am a beginner to both data engineering and time series modelling)"
   ]
  },
  {
   "cell_type": "code",
   "execution_count": null,
   "id": "582024de",
   "metadata": {},
   "outputs": [],
   "source": []
  }
 ],
 "metadata": {
  "kernelspec": {
   "display_name": "forecast_env",
   "language": "python",
   "name": "python3"
  },
  "language_info": {
   "codemirror_mode": {
    "name": "ipython",
    "version": 3
   },
   "file_extension": ".py",
   "mimetype": "text/x-python",
   "name": "python",
   "nbconvert_exporter": "python",
   "pygments_lexer": "ipython3",
   "version": "3.13.5"
  }
 },
 "nbformat": 4,
 "nbformat_minor": 5
}
